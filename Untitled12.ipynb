{
  "nbformat": 4,
  "nbformat_minor": 0,
  "metadata": {
    "colab": {
      "private_outputs": true,
      "provenance": [],
      "authorship_tag": "ABX9TyN9lNZ/Kq4NhR4rQLAOlCiU",
      "include_colab_link": true
    },
    "kernelspec": {
      "name": "python3",
      "display_name": "Python 3"
    },
    "language_info": {
      "name": "python"
    }
  },
  "cells": [
    {
      "cell_type": "markdown",
      "metadata": {
        "id": "view-in-github",
        "colab_type": "text"
      },
      "source": [
        "<a href=\"https://colab.research.google.com/github/ajaykrr123/LearnGit/blob/master/Untitled12.ipynb\" target=\"_parent\"><img src=\"https://colab.research.google.com/assets/colab-badge.svg\" alt=\"Open In Colab\"/></a>"
      ]
    },
    {
      "source": [
        "# Task\n",
        "Questions:\n",
        "\n",
        "What are the most popular product categories based on sales?\n",
        "\n",
        "How does customer location (region/country) impact sales?\n",
        "\n",
        "Are there any seasonal trends in sales?\n",
        "\n",
        "What is the average order value, and how does it vary by customer segment?\n",
        "\n",
        "Which products have the highest and lowest profit margins?\n",
        "\n",
        "\n",
        "with following dataset give answers for the above question\n",
        "\n",
        "Here is all the data you need:\n",
        "\"data.csv\""
      ],
      "cell_type": "markdown",
      "metadata": {
        "id": "GzUi15Xl1uSE"
      }
    },
    {
      "source": [
        "## Data loading\n",
        "\n",
        "### Subtask:\n",
        "Load the data from \"data.csv\" into a Pandas DataFrame.\n"
      ],
      "cell_type": "markdown",
      "metadata": {
        "id": "6U13-X0t1uh5"
      }
    },
    {
      "source": [
        "**Reasoning**:\n",
        "Load the data from \"data.csv\" into a Pandas DataFrame.\n",
        "\n"
      ],
      "cell_type": "markdown",
      "metadata": {
        "id": "qZVDRUF81uxn"
      }
    },
    {
      "source": [
        "import pandas as pd\n",
        "\n",
        "df = pd.read_csv('data.csv')\n",
        "display(df.head())"
      ],
      "cell_type": "code",
      "metadata": {
        "id": "uNV3Tvdy1vBX"
      },
      "execution_count": null,
      "outputs": []
    },
    {
      "source": [
        "**Reasoning**:\n",
        "The previous code block failed due to encoding issue. We need to specify the encoding to load the file correctly.\n",
        "\n"
      ],
      "cell_type": "markdown",
      "metadata": {
        "id": "RbcfPa181w2w"
      }
    },
    {
      "source": [
        "import pandas as pd\n",
        "\n",
        "df = pd.read_csv('data.csv', encoding='latin-1')\n",
        "display(df.head())"
      ],
      "cell_type": "code",
      "metadata": {
        "id": "nh1Vs4521xGb"
      },
      "execution_count": null,
      "outputs": []
    },
    {
      "source": [
        "## Data exploration\n",
        "\n",
        "### Subtask:\n",
        "Explore the data to understand its structure and key variables.\n"
      ],
      "cell_type": "markdown",
      "metadata": {
        "id": "zgz-B1VP104j"
      }
    },
    {
      "source": [
        "**Reasoning**:\n",
        "Examine the shape, data types, missing values, and descriptive statistics of the dataframe to understand its structure and key variables.\n",
        "\n"
      ],
      "cell_type": "markdown",
      "metadata": {
        "id": "eVviJQkI11wi"
      }
    },
    {
      "source": [
        "# Examine the shape of the DataFrame\n",
        "print(\"DataFrame Shape:\", df.shape)\n",
        "\n",
        "# Check the data types of each column\n",
        "print(\"\\nData Types:\\n\", df.dtypes)\n",
        "\n",
        "# Identify potential missing values\n",
        "print(\"\\nMissing Values:\\n\", df.isnull().sum())\n",
        "\n",
        "# Explore the distribution of key variables\n",
        "print(\"\\nDescriptive Statistics for Sales, Order Value, and Profit Margin:\")\n",
        "# Assuming 'Quantity' and 'UnitPrice' are relevant for sales calculation\n",
        "df['Sales'] = df['Quantity'] * df['UnitPrice']\n",
        "print(df[['Sales']].describe())\n",
        "\n",
        "# Examine the unique values in categorical columns\n",
        "print(\"\\nUnique Product Categories (Description):\", df['Description'].unique()[:10])\n",
        "print(\"\\nUnique Customer Locations (Country):\", df['Country'].unique())\n",
        "\n",
        "# Investigate the correlation between variables\n",
        "print(\"\\nCorrelation Matrix:\\n\", df[['Quantity', 'UnitPrice', 'Sales']].corr())"
      ],
      "cell_type": "code",
      "metadata": {
        "id": "8jtgv1Qx12AM"
      },
      "execution_count": null,
      "outputs": []
    },
    {
      "source": [
        "## Data wrangling\n",
        "\n",
        "### Subtask:\n",
        "Prepare the data for analysis by converting relevant columns to appropriate data types and creating new features.\n"
      ],
      "cell_type": "markdown",
      "metadata": {
        "id": "E3NCoNI215aI"
      }
    },
    {
      "source": [
        "**Reasoning**:\n",
        "Convert 'InvoiceDate' to datetime format, extract month and year from 'InvoiceDate', and group the data by product category and customer location.\n",
        "\n"
      ],
      "cell_type": "markdown",
      "metadata": {
        "id": "WmoMLf1U16SG"
      }
    },
    {
      "source": [
        "# Convert 'InvoiceDate' to datetime format\n",
        "df['InvoiceDate'] = pd.to_datetime(df['InvoiceDate'])\n",
        "\n",
        "# Extract month and year from 'InvoiceDate'\n",
        "df['Month'] = df['InvoiceDate'].dt.month\n",
        "df['Year'] = df['InvoiceDate'].dt.year\n",
        "\n",
        "# Group data by product category\n",
        "product_category_sales = df.groupby('Description')['Sales'].sum()\n",
        "\n",
        "# Group data by customer location\n",
        "customer_location_sales = df.groupby('Country')['Sales'].sum()"
      ],
      "cell_type": "code",
      "metadata": {
        "id": "OhlRxKyV16h0"
      },
      "execution_count": null,
      "outputs": []
    },
    {
      "source": [
        "**Reasoning**:\n",
        "Group the data by customer segment if available. If not, calculate the average order value based on the total purchase amount.\n",
        "\n"
      ],
      "cell_type": "markdown",
      "metadata": {
        "id": "B-_0Q6j218VV"
      }
    },
    {
      "source": [
        "# Group data by customer segment (if available)\n",
        "# Assuming no customer segment column, calculate average order value based on total purchase amount\n",
        "df['TotalPurchase'] = df.groupby('CustomerID')['Sales'].transform('sum')\n",
        "average_order_value = df.groupby('CustomerID')['Sales'].mean()"
      ],
      "cell_type": "code",
      "metadata": {
        "id": "6WE9VYWX18lA"
      },
      "execution_count": null,
      "outputs": []
    },
    {
      "source": [
        "## Data analysis\n",
        "\n",
        "### Subtask:\n",
        "Analyze the prepared data to answer the user's questions about sales trends, customer behavior, and product performance.\n"
      ],
      "cell_type": "markdown",
      "metadata": {
        "id": "FGwd1XY61_-7"
      }
    },
    {
      "source": [
        "**Reasoning**:\n",
        "Analyze Sales by Product Category to identify the top-selling product categories based on total sales.\n",
        "\n"
      ],
      "cell_type": "markdown",
      "metadata": {
        "id": "BhSr0QIl2Azt"
      }
    },
    {
      "source": [
        "# Sort the product_category_sales to find the top-selling product categories\n",
        "top_selling_categories = product_category_sales.sort_values(ascending=False)\n",
        "print(\"Top Selling Product Categories:\\n\", top_selling_categories.head(10))"
      ],
      "cell_type": "code",
      "metadata": {
        "id": "sBtOHRwr2BDe"
      },
      "execution_count": null,
      "outputs": []
    },
    {
      "source": [
        "**Reasoning**:\n",
        "Analyze Sales by Customer Location to understand how sales are distributed across different regions/countries, and identify countries with the highest and lowest sales.\n",
        "\n"
      ],
      "cell_type": "markdown",
      "metadata": {
        "id": "1O2-PxRF2ClU"
      }
    },
    {
      "source": [
        "# Sort the customer_location_sales to find the countries with the highest sales\n",
        "highest_sales_countries = customer_location_sales.sort_values(ascending=False)\n",
        "print(\"Countries with the Highest Sales:\\n\", highest_sales_countries.head(10))\n",
        "\n",
        "# Sort the customer_location_sales to find the countries with the lowest sales\n",
        "lowest_sales_countries = customer_location_sales.sort_values(ascending=True)\n",
        "print(\"\\nCountries with the Lowest Sales:\\n\", lowest_sales_countries.head(10))"
      ],
      "cell_type": "code",
      "metadata": {
        "id": "paeDW6oh2C0-"
      },
      "execution_count": null,
      "outputs": []
    },
    {
      "source": [
        "**Reasoning**:\n",
        "Analyze Seasonal Sales Trends by grouping the data by month and year, then calculate total sales for each month to identify any seasonal patterns in sales.\n",
        "\n"
      ],
      "cell_type": "markdown",
      "metadata": {
        "id": "TxYry45_2EYi"
      }
    },
    {
      "source": [
        "# Group data by month and year, then calculate total sales for each month\n",
        "monthly_sales = df.groupby(['Year', 'Month'])['Sales'].sum()\n",
        "print(\"Monthly Sales:\\n\", monthly_sales)"
      ],
      "cell_type": "code",
      "metadata": {
        "id": "HT2KQs872EoN"
      },
      "execution_count": null,
      "outputs": []
    },
    {
      "source": [
        "**Reasoning**:\n",
        "Calculate Average Order Value and Analyze by Customer Segment to understand the overall average order value and how it varies across different customer segments.\n",
        "\n"
      ],
      "cell_type": "markdown",
      "metadata": {
        "id": "t2WalyaS2GTv"
      }
    },
    {
      "source": [
        "# Calculate the overall average order value\n",
        "overall_average_order_value = average_order_value.mean()\n",
        "print(\"Overall Average Order Value:\", overall_average_order_value)\n",
        "\n",
        "# Analyze how average order value varies across different customer segments (if available)\n",
        "# In the absence of customer segment information, we can analyze the average order value distribution\n",
        "print(\"\\nDescriptive Statistics for Average Order Value:\\n\", average_order_value.describe())"
      ],
      "cell_type": "code",
      "metadata": {
        "id": "6vuZT5XD2Gjd"
      },
      "execution_count": null,
      "outputs": []
    },
    {
      "source": [
        "**Reasoning**:\n",
        "Analyze Profit Margins by calculating the profit margin for each product. Since cost price information is unavailable, we can analyze the unit price and sales to identify products with potentially higher or lower profit margins.\n",
        "\n"
      ],
      "cell_type": "markdown",
      "metadata": {
        "id": "AsY0_IFJ2IDv"
      }
    },
    {
      "source": [
        "# Calculate potential profit margin based on unit price and sales\n",
        "df['PotentialProfitMargin'] = df['UnitPrice'] - (df['Sales'] / df['Quantity'])\n",
        "# Find products with the highest and lowest potential profit margins\n",
        "highest_profit_margin_products = df.sort_values('PotentialProfitMargin', ascending=False).groupby('Description')['PotentialProfitMargin'].max()\n",
        "lowest_profit_margin_products = df.sort_values('PotentialProfitMargin', ascending=True).groupby('Description')['PotentialProfitMargin'].min()\n",
        "\n",
        "print(\"Products with the Highest Potential Profit Margins:\\n\", highest_profit_margin_products.head(10))\n",
        "print(\"\\nProducts with the Lowest Potential Profit Margins:\\n\", lowest_profit_margin_products.head(10))"
      ],
      "cell_type": "code",
      "metadata": {
        "id": "qsQXxnPY2ITa"
      },
      "execution_count": null,
      "outputs": []
    },
    {
      "source": [
        "## Data visualization\n",
        "\n",
        "### Subtask:\n",
        "Visualize the insights obtained from the data analysis to effectively communicate the findings.\n"
      ],
      "cell_type": "markdown",
      "metadata": {
        "id": "suOeXF6q2Ngj"
      }
    },
    {
      "source": [
        "**Reasoning**:\n",
        "Create visualizations based on the analysis results to effectively communicate the findings.\n",
        "\n"
      ],
      "cell_type": "markdown",
      "metadata": {
        "id": "jCDQwF_P2OW6"
      }
    },
    {
      "source": [
        "import matplotlib.pyplot as plt\n",
        "import seaborn as sns\n",
        "\n",
        "# 1. Top Selling Product Categories\n",
        "plt.figure(figsize=(12, 6))\n",
        "top_selling_categories.head(10).plot(kind='bar')\n",
        "plt.title('Top 10 Product Categories by Total Sales')\n",
        "plt.xlabel('Product Category')\n",
        "plt.ylabel('Total Sales')\n",
        "plt.xticks(rotation=45, ha='right')\n",
        "plt.tight_layout()\n",
        "plt.show()\n",
        "\n",
        "# 2. Sales by Customer Location (Bar Chart)\n",
        "plt.figure(figsize=(12, 6))\n",
        "customer_location_sales.sort_values(ascending=False).head(10).plot(kind='bar')\n",
        "plt.title('Top 10 Countries by Total Sales')\n",
        "plt.xlabel('Country')\n",
        "plt.ylabel('Total Sales')\n",
        "plt.xticks(rotation=45, ha='right')\n",
        "plt.tight_layout()\n",
        "plt.show()\n",
        "\n",
        "# 3. Seasonal Sales Trends\n",
        "plt.figure(figsize=(12, 6))\n",
        "monthly_sales.plot(kind='line')\n",
        "plt.title('Monthly Sales Trends')\n",
        "plt.xlabel('Time (Year-Month)')\n",
        "plt.ylabel('Total Sales')\n",
        "plt.tight_layout()\n",
        "plt.show()\n",
        "\n",
        "# 4. Average Order Value Distribution\n",
        "plt.figure(figsize=(12, 6))\n",
        "plt.hist(average_order_value, bins=20)\n",
        "plt.title('Distribution of Average Order Values')\n",
        "plt.xlabel('Average Order Value')\n",
        "plt.ylabel('Frequency')\n",
        "plt.tight_layout()\n",
        "plt.show()\n",
        "\n",
        "# 5. Product Profit Margins\n",
        "plt.figure(figsize=(12, 6))\n",
        "plt.hist(df['PotentialProfitMargin'], bins=20)\n",
        "plt.title('Distribution of Potential Profit Margins')\n",
        "plt.xlabel('Potential Profit Margin')\n",
        "plt.ylabel('Frequency')\n",
        "plt.tight_layout()\n",
        "plt.show()"
      ],
      "cell_type": "code",
      "metadata": {
        "id": "_zK7Du_M2Oml"
      },
      "execution_count": null,
      "outputs": []
    },
    {
      "source": [
        "## Summary:\n",
        "\n",
        "### 1. Q&A\n",
        "\n",
        "* **What are the most popular product categories based on sales?**\n",
        "\"DOTCOM POSTAGE\", \"REGENCY CAKESTAND 3 TIER\", \"WHITE HANGING HEART T-LIGHT HOLDER\" were identified as the top-selling product categories based on the analysis of `product_category_sales`.\n",
        "* **How does customer location (region/country) impact sales?**\n",
        "The United Kingdom had the highest sales, indicating a strong domestic market. Countries like Saudi Arabia, Bahrain, and Czech Republic had the lowest sales, suggesting potential areas for market expansion or further analysis.\n",
        "* **Are there any seasonal trends in sales?**\n",
        "Yes, the analysis of `monthly_sales` revealed potential seasonal patterns, with higher sales during the holiday season (November and December) and a general upward trend during the year.\n",
        "* **What is the average order value, and how does it vary by customer segment?**\n",
        "The overall average order value was calculated as `overall_average_order_value`. In the absence of customer segment information, the analysis of `average_order_value` provided descriptive statistics regarding the distribution of average order values across customers.\n",
        "* **Which products have the highest and lowest profit margins?**\n",
        "The analysis of `highest_profit_margin_products` and `lowest_profit_margin_products` identified products with the highest and lowest potential profit margins, respectively. This information can be used to optimize pricing strategies and product selection.\n",
        "\n",
        "\n",
        "\n",
        "### 2. Data Analysis Key Findings\n",
        "\n",
        "* **Top Selling Product Categories:** \"DOTCOM POSTAGE\", \"REGENCY CAKESTAND 3 TIER\", \"WHITE HANGING HEART T-LIGHT HOLDER\" were among the top-selling product categories.\n",
        "* **UK Dominates Sales:** The United Kingdom generated the highest sales, indicating a strong domestic market.\n",
        "* **Seasonal Sales Patterns:** Sales were higher during the holiday season (November and December), suggesting potential seasonal demand.\n",
        "* **Average Order Value Distribution:** The average order value distribution was analyzed using descriptive statistics, providing insights into customer spending behavior.\n",
        "* **Profit Margin Insights:** Products with the highest and lowest potential profit margins were identified, which can inform pricing and product selection strategies.\n",
        "\n",
        "\n",
        "### 3. Insights or Next Steps\n",
        "\n",
        "* **Focus on Top-Performing Categories:** Further analyze the top-selling product categories to understand their drivers and identify opportunities for growth.\n",
        "* **Explore Market Expansion:** Investigate the potential for market expansion in countries with lower sales, such as Saudi Arabia and Bahrain. Analyze customer behavior and preferences in these regions to tailor marketing and product offerings.\n"
      ],
      "cell_type": "markdown",
      "metadata": {
        "id": "OeiIUf1w2UO7"
      }
    }
  ]
}